{
 "cells": [
  {
   "cell_type": "markdown",
   "metadata": {},
   "source": [
    "# NEW DATASET MAKING(2022/10/04)"
   ]
  },
  {
   "cell_type": "markdown",
   "metadata": {},
   "source": [
    "# Surface Sampling with iner mesh\n",
    "- I don't know why but XYZ Coordinate is something wrong.\n",
    "- So I rotate point cloud by `(np.pi/2, 0, 0)`"
   ]
  },
  {
   "cell_type": "code",
   "execution_count": 1,
   "metadata": {},
   "outputs": [
    {
     "name": "stdout",
     "output_type": "stream",
     "text": [
      "Jupyter environment detected. Enabling Open3D WebVisualizer.\n",
      "[Open3D INFO] WebRTC GUI backend enabled.\n",
      "[Open3D INFO] WebRTCWindowSystem: HTTP handshake server disabled.\n"
     ]
    }
   ],
   "source": [
    "import open3d as o3d\n",
    "\n",
    "def pure_surface_sampling(pt_path):\n",
    "    # 点群ファイルのインポート\n",
    "    file = pt_path\n",
    "    # 点群数の定義\n",
    "    sampling_points = 700000\n",
    "\n",
    "    # 表面サンプリングと可視化\n",
    "    mesh = o3d.io.read_triangle_mesh(file)\n",
    "    \n",
    "    pcd = o3d.geometry.TriangleMesh.sample_points_uniformly(mesh,number_of_points=sampling_points)\n",
    "\n",
    "    return pcd"
   ]
  },
  {
   "cell_type": "code",
   "execution_count": 3,
   "metadata": {},
   "outputs": [],
   "source": [
    "import copy\n",
    "import numpy as np\n",
    "\n",
    "# Rotate point cloud\n",
    "def rotation(pcd):\n",
    "    pcd_c = copy.deepcopy(pcd)\n",
    "    R = pcd.get_rotation_matrix_from_xyz((np.pi/2, 0, 0))\n",
    "    pcd_c.rotate(R, center=(0,0,0))\n",
    "    return pcd_c"
   ]
  },
  {
   "cell_type": "code",
   "execution_count": 5,
   "metadata": {},
   "outputs": [
    {
     "name": "stdout",
     "output_type": "stream",
     "text": [
      "[Open3D INFO] Skipping non-triangle primitive geometry of type: 6\n",
      "=========\n",
      "ERORR :  /home/takenobu/ダウンロード/new_obj_files/edit/pointcloud/Surface_with_Iner/34.ply\n",
      "=========\n",
      "[Open3D INFO] Skipping non-triangle primitive geometry of type: 6\n",
      "[Open3D INFO] Skipping non-triangle primitive geometry of type: 6\n",
      "[Open3D INFO] Skipping non-triangle primitive geometry of type: 6\n",
      "[Open3D INFO] Skipping non-triangle primitive geometry of type: 6\n"
     ]
    }
   ],
   "source": [
    "from glob import glob\n",
    "import os \n",
    "\n",
    "output_dir = '/home/takenobu/ダウンロード/new_obj_files/edit/pointcloud/Surface_with_Iner/'\n",
    "source_dir = '/home/takenobu/ダウンロード/new_obj_files/edit/obj/*.obj'\n",
    "\n",
    "data_list = glob(source_dir)\n",
    "\n",
    "for data in data_list:\n",
    "    try:\n",
    "        basename = os.path.basename(data)\n",
    "        pcd = pure_surface_sampling(data)\n",
    "        pcd_r = rotation(pcd)\n",
    "        core_name = basename[:-4] + '.ply'\n",
    "        save_name = output_dir + core_name\n",
    "\n",
    "        o3d.io.write_point_cloud(save_name, pcd_r)\n",
    "        \n",
    "    except:\n",
    "        basename = os.path.basename(data)\n",
    "        core_name = basename[:-4] + '.ply'\n",
    "        save_name = output_dir + core_name\n",
    "        print('=========')\n",
    "        print('ERORR : ', save_name)\n",
    "        print('=========')\n",
    "        continue\n",
    "\n",
    "    "
   ]
  },
  {
   "cell_type": "markdown",
   "metadata": {},
   "source": [
    "### 34.plyで異常発生 "
   ]
  },
  {
   "cell_type": "code",
   "execution_count": 6,
   "metadata": {},
   "outputs": [
    {
     "name": "stdout",
     "output_type": "stream",
     "text": [
      "9 is lost by some resones..\n",
      "13 is lost by some resones..\n",
      "31 is lost by some resones..\n",
      "34 is lost by some resones..\n",
      "35 is lost by some resones..\n",
      "38 is lost by some resones..\n",
      "53 is lost by some resones..\n",
      "58 is lost by some resones..\n"
     ]
    }
   ],
   "source": [
    "for i in range(61):\n",
    "    surface_with_iner_DIR = '/home/takenobu/ダウンロード/new_obj_files/edit/pointcloud/Surface_with_Iner/{}.ply'.format(i+1)\n",
    "    if os.path.exists(surface_with_iner_DIR):\n",
    "        continue\n",
    "    else:\n",
    "        print(i+1, 'is lost by some resones..')"
   ]
  },
  {
   "cell_type": "code",
   "execution_count": 15,
   "metadata": {},
   "outputs": [
    {
     "data": {
      "text/plain": [
       "53"
      ]
     },
     "execution_count": 15,
     "metadata": {},
     "output_type": "execute_result"
    }
   ],
   "source": [
    "61-8"
   ]
  },
  {
   "cell_type": "markdown",
   "metadata": {},
   "source": [
    "# Directly Visibility PointSets"
   ]
  },
  {
   "cell_type": "code",
   "execution_count": 16,
   "metadata": {},
   "outputs": [],
   "source": [
    "import numpy as np\n",
    "import open3d as o3d\n",
    "import math\n",
    "import random\n",
    "import os\n",
    "from tqdm import tqdm\n",
    "import glob\n",
    "\n",
    "def surface_sampling(pt_path):\n",
    "    # 点群ファイルのインポート\n",
    "    file = pt_path\n",
    "    # 点群数の定義\n",
    "    sampling_points = 700000\n",
    "\n",
    "    #ダウンサンプリングの点群数\n",
    "    result_points = 8192\n",
    "    \n",
    "    pcd = o3d.io.read_point_cloud(file)\n",
    "\n",
    "    # 表面サンプリングと可視化\n",
    "    print('=====================')\n",
    "    print(pcd)\n",
    "    print('=====================')\n",
    "\n",
    "    # なんかようわからんが、この計算で点群を球で囲ったときの直径が取れるらしい.....\n",
    "    diameter = np.linalg.norm(np.asarray(pcd.get_max_bound()) - np.asarray(pcd.get_min_bound()))\n",
    "\n",
    "    # 逆投影するための外円定義 and この変数自体は(by　武田修論)\n",
    "    \n",
    "    ## ========================================================================\n",
    "    radius = diameter * 29\n",
    "     ## ========================================================================\n",
    "\n",
    "    # 見えた点群のインデックスをここに記録\n",
    "    visible_index = []\n",
    "    # 貼る格子の１辺のカメラ個数\n",
    "    lattice_number = 8\n",
    "\n",
    "    ###directly visibility of pointsets###\n",
    "\n",
    "    side = int(1.3 * diameter)\n",
    "\n",
    "    ## side1(+側でx固定)\n",
    "    # first_location\n",
    "    first_location_x = int(side/2) \n",
    "    first_location_y = int(side/2) * (-1)\n",
    "    first_location_z = side\n",
    "\n",
    "    for i in range(lattice_number):\n",
    "        # z軸決定\n",
    "        location_z = first_location_z - i*(side/(lattice_number-1))\n",
    "        for j in range(lattice_number):\n",
    "            # y軸決定\n",
    "            location_y = first_location_y + j*(side/(lattice_number-1))\n",
    "            \n",
    "            camera = [first_location_x, location_y, location_z]\n",
    "            _, pt_map = pcd.hidden_point_removal(camera, radius)\n",
    "            visible_index.extend(pt_map)\n",
    "            \n",
    "\n",
    "    # side2(+側でy固定)\n",
    "    # first_location\n",
    "    first_location_x = int(side/2)\n",
    "    first_location_y = int(side/2) \n",
    "    first_location_z = side\n",
    "\n",
    "    for i in range(lattice_number):\n",
    "        # z軸決定\n",
    "        location_z = first_location_z - i*(side/(lattice_number-1))\n",
    "        for j in range(lattice_number):\n",
    "            # x軸決定\n",
    "            location_x = first_location_x - j*(side/(lattice_number-1))\n",
    "            camera = [location_x, first_location_y, location_z]\n",
    "            _, pt_map = pcd.hidden_point_removal(camera, radius)\n",
    "            visible_index.extend(pt_map)\n",
    "\n",
    "    # side3(-側でx固定)\n",
    "    first_location_x = int(side/2) * (-1)\n",
    "    first_location_y = int(side/2) * (-1)\n",
    "    first_location_z = side\n",
    "\n",
    "    for i in range(lattice_number):\n",
    "        # z軸決定\n",
    "        location_z = first_location_z - i*(side/(lattice_number-1))\n",
    "        for j in range(lattice_number):\n",
    "            # y軸決定\n",
    "            location_y = first_location_y + j*(side/(lattice_number-1))\n",
    "            camera = [first_location_x, location_y, location_z]\n",
    "            _, pt_map = pcd.hidden_point_removal(camera, radius)\n",
    "            visible_index.extend(pt_map)\n",
    "\n",
    "    # side4(-側でy固定)\n",
    "    first_location_x = int(side/2) * (-1)\n",
    "    first_location_y = int(side/2) * (-1)\n",
    "    first_location_z = side\n",
    "\n",
    "    for i in range(lattice_number):\n",
    "        # z軸決定\n",
    "        location_z = first_location_z - i*(side/(lattice_number-1))\n",
    "        for j in range(lattice_number):\n",
    "            # x軸決定\n",
    "            location_x = first_location_x + j*(side/(lattice_number-1))\n",
    "            camera = [location_x, first_location_y, location_z]\n",
    "            _, pt_map = pcd.hidden_point_removal(camera, radius)\n",
    "            visible_index.extend(pt_map)\n",
    "\n",
    "    # top(z軸で固定)\n",
    "    first_location_x = int(side/2)\n",
    "    first_location_y = int(side/2)\n",
    "    first_location_z = side\n",
    "\n",
    "    for i in range(lattice_number):\n",
    "        # z軸決定\n",
    "        location_y = first_location_y - i*(side/(lattice_number-1))\n",
    "        for j in range(lattice_number):\n",
    "            # x軸決定\n",
    "            location_x = first_location_x - j*(side/(lattice_number-1))\n",
    "            camera = [location_x, location_y, first_location_z]\n",
    "            _, pt_map = pcd.hidden_point_removal(camera, radius)\n",
    "            visible_index.extend(pt_map)\n",
    "\n",
    "    # set型→list型に変換して重複削除・並び替え\n",
    "    visible_index = list(set(visible_index))\n",
    "\n",
    "    # ランダムサンプリングの処理\n",
    "    result_index = random.sample(visible_index, result_points)\n",
    "\n",
    "    # 表面サンプリング＆ダウンサンプリング\n",
    "    pcd_downsample = pcd.select_by_index(result_index)\n",
    "    # 表面サンプリング\n",
    "    pcd_surface = pcd.select_by_index(visible_index)\n",
    "\n",
    "    return pcd_surface, pcd_downsample\n"
   ]
  },
  {
   "cell_type": "code",
   "execution_count": 17,
   "metadata": {},
   "outputs": [
    {
     "name": "stderr",
     "output_type": "stream",
     "text": [
      "  0%|          | 0/53 [00:00<?, ?it/s]"
     ]
    },
    {
     "name": "stdout",
     "output_type": "stream",
     "text": [
      "=====================\n",
      "PointCloud with 700000 points.\n",
      "=====================\n"
     ]
    },
    {
     "name": "stderr",
     "output_type": "stream",
     "text": [
      "  2%|▏         | 1/53 [01:37<1:24:29, 97.50s/it]"
     ]
    },
    {
     "name": "stdout",
     "output_type": "stream",
     "text": [
      "=====================\n",
      "BASE NAME : 33.ply\n",
      "pdc_surface : \n",
      "PointCloud with 141505 points.\n",
      "pdc_downsample : \n",
      "PointCloud with 8192 points.\n",
      "=====================\n",
      "=====================\n",
      "PointCloud with 700000 points.\n",
      "=====================\n"
     ]
    },
    {
     "name": "stderr",
     "output_type": "stream",
     "text": [
      "  4%|▍         | 2/53 [03:33<1:32:13, 108.49s/it]"
     ]
    },
    {
     "name": "stdout",
     "output_type": "stream",
     "text": [
      "=====================\n",
      "BASE NAME : 18.ply\n",
      "pdc_surface : \n",
      "PointCloud with 217917 points.\n",
      "pdc_downsample : \n",
      "PointCloud with 8192 points.\n",
      "=====================\n",
      "=====================\n",
      "PointCloud with 700000 points.\n",
      "=====================\n"
     ]
    }
   ],
   "source": [
    "from glob import glob\n",
    "import open3d as o3d\n",
    "from tqdm import tqdm\n",
    "\n",
    "source_dir = '/home/workspace/kiyama/PoinTr/new_obj_files/edit/pointcloud/Surface_with_Iner/'\n",
    "output_dir = '/home/workspace/kiyama/PoinTr/new_obj_files/edit/pointcloud/Surface_without_iner/'\n",
    "downsample_dir = '/home/workspace/kiyama/PoinTr/new_obj_files/edit/pointcloud/Surface_without_Iner_downsample/'\n",
    "\n",
    "ply_data_path_list = glob(source_dir + '*.ply')\n",
    "\n",
    "for data_path in tqdm(ply_data_path_list):\n",
    "    # basename を取得\n",
    "    basename = os.path.basename(data_path)\n",
    "    outputname = basename[:-4]+'.ply'\n",
    "    try:\n",
    "        # 表面サンプリングの実行\n",
    "        pcd_surface, pcd_downsample = surface_sampling(data_path)\n",
    "        \n",
    "        print('=====================')\n",
    "        print('BASE NAME : ' + basename)\n",
    "        print('pdc_surface : ')\n",
    "        print(pcd_surface)\n",
    "        print('pdc_downsample : ')\n",
    "        print(pcd_downsample)\n",
    "        print('=====================')\n",
    "\n",
    "        #  点群データの保存\n",
    "        o3d.io.write_point_cloud(output_dir+outputname, pcd_surface)\n",
    "        o3d.io.write_point_cloud(downsample_dir+outputname, pcd_downsample)\n",
    "    \n",
    "    except:\n",
    "        print('=====================')\n",
    "        print(basename, ' で問題が起きたっぽい')\n",
    "        print('=====================')\n",
    "        continue"
   ]
  },
  {
   "cell_type": "code",
   "execution_count": null,
   "metadata": {},
   "outputs": [],
   "source": []
  }
 ],
 "metadata": {
  "kernelspec": {
   "display_name": "Python 3.9.12 64-bit",
   "language": "python",
   "name": "python3"
  },
  "language_info": {
   "codemirror_mode": {
    "name": "ipython",
    "version": 3
   },
   "file_extension": ".py",
   "mimetype": "text/x-python",
   "name": "python",
   "nbconvert_exporter": "python",
   "pygments_lexer": "ipython3",
   "version": "3.9.12"
  },
  "orig_nbformat": 4,
  "vscode": {
   "interpreter": {
    "hash": "aee8b7b246df8f9039afb4144a1f6fd8d2ca17a180786b69acc140d282b71a49"
   }
  }
 },
 "nbformat": 4,
 "nbformat_minor": 2
}
